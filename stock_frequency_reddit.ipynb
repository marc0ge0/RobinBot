{
 "cells": [
  {
   "cell_type": "code",
   "execution_count": 4,
   "metadata": {},
   "outputs": [],
   "source": [
    "import config\n",
    "import praw\n",
    "import datetime\n",
    "from datetime import date\n",
    "import pandas as pd"
   ]
  },
  {
   "cell_type": "code",
   "execution_count": 5,
   "metadata": {},
   "outputs": [],
   "source": [
    "# accessing reddit API using praw wrapper\n",
    "reddit = praw.Reddit(client_id=config.redditApp,\n",
    "                     client_secret=config.redditSecret,\n",
    "                     user_agent=config.redditUser)"
   ]
  },
  {
   "cell_type": "code",
   "execution_count": 70,
   "metadata": {},
   "outputs": [],
   "source": [
    "def potential_word_list(text, refined_words=[]):\n",
    "    \n",
    "    stopwords = ['DD', 'US', 'AND', 'PR', 'CEO', 'EV', 'SO', 'IN', 'RH', 'FDA', 'OP', 'WSB', 'SPY']\n",
    "    \n",
    "    for word in text.split():\n",
    "        if word[0] == '$':\n",
    "            word = word[1:]\n",
    "        \n",
    "        if (2 <= len(word) <= 4 and word == word.upper()) and word not in stopwords:\n",
    "            valid = True\n",
    "            for char in word:\n",
    "                if not char.isalpha():\n",
    "                    valid = False\n",
    "            if valid:\n",
    "                refined_words.append(word)\n",
    "            \n",
    "    return refined_words        "
   ]
  },
  {
   "cell_type": "code",
   "execution_count": 53,
   "metadata": {},
   "outputs": [],
   "source": [
    "def search_daily_thread(submission):\n",
    "    stock_list = []\n",
    "    \n",
    "    for comment in submission.comments:\n",
    "        stock_list = potential_word_list(comment.body, stock_list)\n",
    "    \n",
    "    return generate_frequency_dataframe(stock_list)"
   ]
  },
  {
   "cell_type": "code",
   "execution_count": 60,
   "metadata": {},
   "outputs": [],
   "source": [
    "def rpenny_daily_thread():\n",
    "    \"\"\"\n",
    "    This function searches r/pennystocks for their \"Tomorrow's Daily\" thread. If it\n",
    "    finds the thread, it searches the comments for stocks to see what the most popular\n",
    "    picks are for tomorrow. Returns a dataframe with most frequently talked about stocks\n",
    "    on the thread\n",
    "    \"\"\"\n",
    "    # Create a new date object based on todays data and format accordingly\n",
    "    today = date.today()\n",
    "    found = False\n",
    "    \n",
    "    # search r/pennystocks for Tomorrow's Daily thread\n",
    "    for submission in reddit.subreddit(\"pennystocks\").search(today.strftime(\"%B %d, %Y Tomorrow's Daily\")):\n",
    "        post = submission\n",
    "        found = True\n",
    "        print(\"Submission Found\")\n",
    "        break\n",
    "        \n",
    "    if not found:\n",
    "        print(\"Error: Thread not found. Please try again.\")\n",
    "        return\n",
    "    \n",
    "    return search_daily_thread(post)"
   ]
  },
  {
   "cell_type": "code",
   "execution_count": 63,
   "metadata": {},
   "outputs": [],
   "source": [
    "def generate_stock_list_from_sub(subreddit, post_number=500):\n",
    "    \"\"\"\n",
    "    function generates a list of the most frequently talked about\n",
    "    stocks in a given subreddit\n",
    "    \"\"\"\n",
    "    words = []\n",
    "    for submission in reddit.subreddit(subreddit).new(limit=post_number):\n",
    "        words = potential_word_list(submission.selftext, words)\n",
    "                \n",
    "    return generate_frequency_dataframe(words)"
   ]
  },
  {
   "cell_type": "code",
   "execution_count": 10,
   "metadata": {},
   "outputs": [],
   "source": [
    "def generate_frequency_dataframe(words):\n",
    "    \"\"\"\n",
    "    function takes a list of words and creates a pandas\n",
    "    dataframe in sorted order with all the words and \n",
    "    their frequencies\n",
    "    \"\"\"\n",
    "    df = pd.DataFrame(words)\n",
    "    df['freq'] = df[0].apply(lambda x: words.count(x))\n",
    "    \n",
    "    df.drop_duplicates(inplace=True)\n",
    "    df.sort_values(by=['freq'], ascending=False, inplace=True)\n",
    "    df.reset_index(inplace=True)\n",
    "    df.drop('index', axis=1, inplace=True)\n",
    "    \n",
    "    return df  "
   ]
  },
  {
   "cell_type": "code",
   "execution_count": null,
   "metadata": {},
   "outputs": [],
   "source": []
  }
 ],
 "metadata": {
  "kernelspec": {
   "display_name": "Python 3",
   "language": "python",
   "name": "python3"
  },
  "language_info": {
   "codemirror_mode": {
    "name": "ipython",
    "version": 3
   },
   "file_extension": ".py",
   "mimetype": "text/x-python",
   "name": "python",
   "nbconvert_exporter": "python",
   "pygments_lexer": "ipython3",
   "version": "3.7.6"
  }
 },
 "nbformat": 4,
 "nbformat_minor": 4
}
