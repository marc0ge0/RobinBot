{
 "cells": [
  {
   "cell_type": "code",
   "execution_count": 4,
   "metadata": {},
   "outputs": [],
   "source": [
    "import config\n",
    "import praw\n",
    "import datetime\n",
    "from datetime import date\n",
    "import pandas as pd"
   ]
  },
  {
   "cell_type": "code",
   "execution_count": 5,
   "metadata": {},
   "outputs": [],
   "source": [
    "# accessing reddit API using praw wrapper\n",
    "reddit = praw.Reddit(client_id=config.redditApp,\n",
    "                     client_secret=config.redditSecret,\n",
    "                     user_agent=config.redditUser)"
   ]
  },
  {
   "cell_type": "code",
   "execution_count": null,
   "metadata": {},
   "outputs": [],
   "source": [
    "\n",
    "            "
   ]
  },
  {
   "cell_type": "code",
   "execution_count": 6,
   "metadata": {},
   "outputs": [],
   "source": [
    "def generate_stock_list(subreddit, post_number=500):\n",
    "    \"\"\"\n",
    "    function generates a list of the most frequently talked about\n",
    "    stocks in a given subreddit\n",
    "    \"\"\"\n",
    "    words = []\n",
    "    for submission in reddit.subreddit(subreddit).new(limit=post_number):\n",
    "        for word in submission.selftext.split():\n",
    "            if word[0] == '$':\n",
    "                words.append(word[1:])\n",
    "            elif 2 <= len(word) <= 4 and word == word.upper():\n",
    "                words.append(word)\n",
    "                \n",
    "    words2 = []\n",
    "    stopwords = ['DD', 'US', 'AND', 'PR', 'CEO', 'EV', 'SO', 'IN', 'RH', 'FDA', 'OP']\n",
    "    for word in words:\n",
    "        valid = True\n",
    "        if word in stopwords:\n",
    "            valid = False\n",
    "        for char in word:\n",
    "            if not char.isalpha():\n",
    "                valid = False\n",
    "        if valid:\n",
    "            words2.append(word)\n",
    "    return words2"
   ]
  },
  {
   "cell_type": "code",
   "execution_count": 10,
   "metadata": {},
   "outputs": [],
   "source": [
    "def generate_frequency_dataframe(words):\n",
    "    \"\"\"\n",
    "    function takes a list of words and creates a pandas\n",
    "    dataframe in sorted order with all the words and \n",
    "    their frequencies\n",
    "    \"\"\"\n",
    "    df = pd.DataFrame(words)\n",
    "    df['freq'] = df[0].apply(lambda x: words.count(x))\n",
    "    \n",
    "    df.drop_duplicates(inplace=True)\n",
    "    df.sort_values(by=['freq'], ascending=False, inplace=True)\n",
    "    df.reset_index(inplace=True)\n",
    "    df.drop('index', axis=1, inplace=True)\n",
    "    \n",
    "    return df  "
   ]
  },
  {
   "cell_type": "code",
   "execution_count": 23,
   "metadata": {},
   "outputs": [],
   "source": [
    "def formatDate(date):\n",
    "    return date.strftime(\"%B %d, %Y\")"
   ]
  },
  {
   "cell_type": "code",
   "execution_count": 8,
   "metadata": {},
   "outputs": [],
   "source": [
    "words = generate_stock_list(\"pennystocks\")"
   ]
  },
  {
   "cell_type": "code",
   "execution_count": 11,
   "metadata": {},
   "outputs": [],
   "source": [
    "df = generate_frequency_dataframe(words)"
   ]
  },
  {
   "cell_type": "code",
   "execution_count": 15,
   "metadata": {},
   "outputs": [
    {
     "data": {
      "text/html": [
       "<div>\n",
       "<style scoped>\n",
       "    .dataframe tbody tr th:only-of-type {\n",
       "        vertical-align: middle;\n",
       "    }\n",
       "\n",
       "    .dataframe tbody tr th {\n",
       "        vertical-align: top;\n",
       "    }\n",
       "\n",
       "    .dataframe thead th {\n",
       "        text-align: right;\n",
       "    }\n",
       "</style>\n",
       "<table border=\"1\" class=\"dataframe\">\n",
       "  <thead>\n",
       "    <tr style=\"text-align: right;\">\n",
       "      <th></th>\n",
       "      <th>0</th>\n",
       "      <th>freq</th>\n",
       "    </tr>\n",
       "  </thead>\n",
       "  <tbody>\n",
       "    <tr>\n",
       "      <th>0</th>\n",
       "      <td>IDEX</td>\n",
       "      <td>26</td>\n",
       "    </tr>\n",
       "    <tr>\n",
       "      <th>1</th>\n",
       "      <td>MARK</td>\n",
       "      <td>22</td>\n",
       "    </tr>\n",
       "    <tr>\n",
       "      <th>2</th>\n",
       "      <td>PPE</td>\n",
       "      <td>14</td>\n",
       "    </tr>\n",
       "    <tr>\n",
       "      <th>3</th>\n",
       "      <td>AYRO</td>\n",
       "      <td>13</td>\n",
       "    </tr>\n",
       "    <tr>\n",
       "      <th>4</th>\n",
       "      <td>CTXR</td>\n",
       "      <td>12</td>\n",
       "    </tr>\n",
       "  </tbody>\n",
       "</table>\n",
       "</div>"
      ],
      "text/plain": [
       "      0  freq\n",
       "0  IDEX    26\n",
       "1  MARK    22\n",
       "2   PPE    14\n",
       "3  AYRO    13\n",
       "4  CTXR    12"
      ]
     },
     "execution_count": 15,
     "metadata": {},
     "output_type": "execute_result"
    }
   ],
   "source": [
    "df.head(5)"
   ]
  },
  {
   "cell_type": "code",
   "execution_count": 38,
   "metadata": {},
   "outputs": [
    {
     "name": "stdout",
     "output_type": "stream",
     "text": [
      "Submission Found\n"
     ]
    }
   ],
   "source": [
    "found = False\n",
    "for submission in reddit.subreddit(\"pennystocks\").search(today.strftime(\"%B %d, %Y Tomorrow's Daily\")):\n",
    "    post = submission\n",
    "    found = True\n",
    "    print(\"Submission Found\")\n",
    "    break\n",
    "    \n",
    "if not found:\n",
    "    print(\"Error: Thread not found. Please try again.\")"
   ]
  },
  {
   "cell_type": "code",
   "execution_count": 47,
   "metadata": {},
   "outputs": [],
   "source": [
    "def search_daily_thread(submission):\n",
    "    stock_list = []\n",
    "    \n",
    "    for comment in submission.comments:\n",
    "        stock_list = potential_word_list(comment.body, stock_list)\n",
    "    \n",
    "    return generate_frequency_dataframe(stock_list)\n",
    "    "
   ]
  },
  {
   "cell_type": "code",
   "execution_count": 48,
   "metadata": {},
   "outputs": [],
   "source": [
    "def potential_word_list(text, refined_words=[]):\n",
    "    \n",
    "    stopwords = ['DD', 'US', 'AND', 'PR', 'CEO', 'EV', 'SO', 'IN', 'RH', 'FDA', 'OP']\n",
    "    \n",
    "    for word in text.split():\n",
    "        if (word[0] == '$' or (2 <= len(word) <= 4 and word == word.upper())) and word not in stopwords:\n",
    "            valid = True\n",
    "            for char in word:\n",
    "                if not char.isalpha():\n",
    "                    valid = False\n",
    "            if valid:\n",
    "                refined_words.append(word)\n",
    "            \n",
    "    return refined_words "
   ]
  },
  {
   "cell_type": "code",
   "execution_count": 49,
   "metadata": {},
   "outputs": [],
   "source": [
    "test = search_daily_thread(post)"
   ]
  },
  {
   "cell_type": "code",
   "execution_count": null,
   "metadata": {},
   "outputs": [],
   "source": []
  },
  {
   "cell_type": "code",
   "execution_count": 19,
   "metadata": {},
   "outputs": [],
   "source": [
    "today = date.today()"
   ]
  },
  {
   "cell_type": "code",
   "execution_count": 22,
   "metadata": {},
   "outputs": [
    {
     "ename": "AttributeError",
     "evalue": "attribute 'month' of 'datetime.date' objects is not writable",
     "output_type": "error",
     "traceback": [
      "\u001b[0;31m---------------------------------------------------------------------------\u001b[0m",
      "\u001b[0;31mAttributeError\u001b[0m                            Traceback (most recent call last)",
      "\u001b[0;32m<ipython-input-22-c12493b1bf08>\u001b[0m in \u001b[0;36m<module>\u001b[0;34m\u001b[0m\n\u001b[0;32m----> 1\u001b[0;31m \u001b[0mtoday\u001b[0m\u001b[0;34m.\u001b[0m\u001b[0mmonth\u001b[0m \u001b[0;34m=\u001b[0m \u001b[0mtoday\u001b[0m\u001b[0;34m.\u001b[0m\u001b[0mmonth\u001b[0m \u001b[0;34m+\u001b[0m \u001b[0;36m2\u001b[0m\u001b[0;34m\u001b[0m\u001b[0;34m\u001b[0m\u001b[0m\n\u001b[0m",
      "\u001b[0;31mAttributeError\u001b[0m: attribute 'month' of 'datetime.date' objects is not writable"
     ]
    }
   ],
   "source": []
  },
  {
   "cell_type": "code",
   "execution_count": 104,
   "metadata": {},
   "outputs": [
    {
     "data": {
      "text/plain": [
       "30"
      ]
     },
     "execution_count": 104,
     "metadata": {},
     "output_type": "execute_result"
    }
   ],
   "source": [
    "today.day + 1"
   ]
  },
  {
   "cell_type": "code",
   "execution_count": 18,
   "metadata": {},
   "outputs": [],
   "source": [
    "def formatDate(date):\n",
    "    return date.strftime(\"%B %d, %Y\")"
   ]
  },
  {
   "cell_type": "code",
   "execution_count": 21,
   "metadata": {},
   "outputs": [
    {
     "name": "stdout",
     "output_type": "stream",
     "text": [
      "June 30, 2020\n"
     ]
    }
   ],
   "source": [
    "print(formatDate(today))"
   ]
  },
  {
   "cell_type": "code",
   "execution_count": 124,
   "metadata": {},
   "outputs": [],
   "source": []
  },
  {
   "cell_type": "code",
   "execution_count": 135,
   "metadata": {},
   "outputs": [],
   "source": [
    "words = []\n",
    "for comment in post.comments:\n",
    "    for word in comment.body.split():\n",
    "        if word[0] == '$':\n",
    "            words.append(word[1:])\n",
    "        elif 2 <= len(word) <= 4 and word == word.upper():\n",
    "            words.append(word)\n",
    "            "
   ]
  },
  {
   "cell_type": "code",
   "execution_count": 136,
   "metadata": {},
   "outputs": [],
   "source": [
    "words2 = []\n",
    "stopwords = ['DD', 'US', 'AND', 'PR', 'CEO', 'EV', 'SO', 'IN', 'RH', 'FDA', 'OP']\n",
    "for word in words:\n",
    "    valid = True\n",
    "    if word in stopwords:\n",
    "        valid = False\n",
    "    for char in word:\n",
    "        if not char.isalpha():\n",
    "            valid = False\n",
    "    if valid:\n",
    "        words2.append(word)"
   ]
  },
  {
   "cell_type": "code",
   "execution_count": 138,
   "metadata": {},
   "outputs": [
    {
     "data": {
      "text/plain": [
       "['PASO',\n",
       " 'KTOV',\n",
       " 'CANF',\n",
       " 'MARK',\n",
       " 'AIM',\n",
       " 'AYRO',\n",
       " 'BLNK',\n",
       " 'KTOV',\n",
       " 'CLSK',\n",
       " 'XELA',\n",
       " 'CLSK',\n",
       " 'MARK',\n",
       " 'CJJD',\n",
       " 'IDEX',\n",
       " 'CLSK',\n",
       " 'BNGO',\n",
       " 'NOVN',\n",
       " 'BIOL',\n",
       " 'BIOC',\n",
       " 'FRSX',\n",
       " 'CLSK',\n",
       " 'HPR',\n",
       " 'CTRM',\n",
       " 'MOGO',\n",
       " 'DFFN',\n",
       " 'BOXL',\n",
       " 'ZOM',\n",
       " 'CLSK',\n",
       " 'XELA',\n",
       " 'BOXL',\n",
       " 'CANF',\n",
       " 'GLBS',\n",
       " 'WTRH',\n",
       " 'IDEX',\n",
       " 'CJJD',\n",
       " 'ZAGG',\n",
       " 'SOLO',\n",
       " 'ZOM',\n",
       " 'FRSX',\n",
       " 'KTOV',\n",
       " 'MVIS',\n",
       " 'BNGO',\n",
       " 'MARK',\n",
       " 'XSPA',\n",
       " 'IDEX',\n",
       " 'CHFS',\n",
       " 'BNGO',\n",
       " 'PM',\n",
       " 'SOLO',\n",
       " 'XSPA',\n",
       " 'SOLO',\n",
       " 'XSPA',\n",
       " 'BB',\n",
       " 'CJJD',\n",
       " 'HMMJ',\n",
       " 'HTBX',\n",
       " 'MARK',\n",
       " 'NURO',\n",
       " 'CHFS',\n",
       " 'SOLO',\n",
       " 'VISL',\n",
       " 'PDSB',\n",
       " 'BOXL',\n",
       " 'VISL',\n",
       " 'IDEX',\n",
       " 'BLNK',\n",
       " 'NOVN',\n",
       " 'EDT',\n",
       " 'EDT',\n",
       " 'CAPR',\n",
       " 'VERY',\n",
       " 'IDEX',\n",
       " 'CTXR',\n",
       " 'GNUS',\n",
       " 'XSPA']"
      ]
     },
     "execution_count": 138,
     "metadata": {},
     "output_type": "execute_result"
    }
   ],
   "source": [
    "words2"
   ]
  },
  {
   "cell_type": "code",
   "execution_count": null,
   "metadata": {},
   "outputs": [],
   "source": []
  }
 ],
 "metadata": {
  "kernelspec": {
   "display_name": "Python 3",
   "language": "python",
   "name": "python3"
  },
  "language_info": {
   "codemirror_mode": {
    "name": "ipython",
    "version": 3
   },
   "file_extension": ".py",
   "mimetype": "text/x-python",
   "name": "python",
   "nbconvert_exporter": "python",
   "pygments_lexer": "ipython3",
   "version": "3.7.6"
  }
 },
 "nbformat": 4,
 "nbformat_minor": 4
}
