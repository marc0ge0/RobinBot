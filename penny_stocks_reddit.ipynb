{
 "cells": [
  {
   "cell_type": "code",
   "execution_count": 23,
   "metadata": {},
   "outputs": [],
   "source": [
    "import config\n",
    "import praw\n",
    "from datetime import datetime"
   ]
  },
  {
   "cell_type": "code",
   "execution_count": 5,
   "metadata": {},
   "outputs": [],
   "source": [
    "# accessing reddit API using praw wrapper\n",
    "reddit = praw.Reddit(client_id=config.redditApp,\n",
    "                     client_secret=config.redditSecret,\n",
    "                     user_agent=config.redditUser)"
   ]
  },
  {
   "cell_type": "code",
   "execution_count": 28,
   "metadata": {},
   "outputs": [
    {
     "name": "stdout",
     "output_type": "stream",
     "text": [
      "2020-06-25\n",
      "2020-06-11\n",
      "2020-06-14\n",
      "2020-06-08\n",
      "2020-05-11\n",
      "2020-06-10\n",
      "2020-06-03\n",
      "2020-05-10\n",
      "2020-06-28\n",
      "2020-06-26\n",
      "2020-05-15\n",
      "2020-05-16\n",
      "2020-06-11\n",
      "2020-06-19\n",
      "2020-06-09\n",
      "2020-06-22\n",
      "2020-05-01\n",
      "2020-06-21\n",
      "2020-06-20\n",
      "2020-06-24\n",
      "2020-06-09\n",
      "2020-06-10\n",
      "2020-05-11\n",
      "2020-05-09\n",
      "2020-06-16\n",
      "2020-05-30\n",
      "2020-06-21\n",
      "2020-06-26\n",
      "2020-06-27\n",
      "2020-06-19\n",
      "2020-05-10\n",
      "2020-06-19\n",
      "2020-06-04\n",
      "2020-05-10\n",
      "2020-06-24\n",
      "2020-05-07\n",
      "2020-05-23\n",
      "2020-06-19\n",
      "2020-06-04\n",
      "2020-06-24\n",
      "2020-06-17\n",
      "2020-05-13\n",
      "2020-04-30\n",
      "2020-06-24\n",
      "2020-06-22\n",
      "2020-05-21\n",
      "2020-06-18\n",
      "2020-06-22\n",
      "2020-06-26\n",
      "2020-05-13\n",
      "2020-06-25\n",
      "2020-05-11\n",
      "2020-06-13\n",
      "2020-06-09\n",
      "2020-05-12\n",
      "2020-06-10\n",
      "2020-06-12\n",
      "2020-05-01\n",
      "2020-06-16\n",
      "2020-05-09\n",
      "2020-06-24\n",
      "2020-06-26\n",
      "2020-05-09\n",
      "2020-05-11\n",
      "2020-06-24\n",
      "2020-06-08\n",
      "2020-06-01\n",
      "2020-06-23\n",
      "2020-06-25\n",
      "2020-05-29\n",
      "2020-05-27\n",
      "2020-05-13\n",
      "2020-06-12\n",
      "2020-06-23\n",
      "2020-03-19\n",
      "2020-06-10\n",
      "2020-05-19\n",
      "2020-06-16\n",
      "2020-06-15\n",
      "2020-06-24\n",
      "2020-06-11\n",
      "2020-06-17\n",
      "2020-05-22\n",
      "2020-06-25\n",
      "2020-06-25\n",
      "2020-06-22\n",
      "2020-06-10\n",
      "2020-06-19\n",
      "2020-06-11\n",
      "2020-06-24\n",
      "2020-06-09\n",
      "2020-05-02\n",
      "2020-06-24\n",
      "2020-06-10\n",
      "2020-06-28\n",
      "2020-06-27\n",
      "2020-06-28\n",
      "2020-05-10\n",
      "2020-06-17\n",
      "2020-06-22\n"
     ]
    }
   ],
   "source": [
    "for submission in reddit.subreddit(\"all\").search(\"tesla\", \"relevance\", \"lucene\"):\n",
    "    print(convert_time_to_date(submission.created_utc))"
   ]
  },
  {
   "cell_type": "code",
   "execution_count": 27,
   "metadata": {},
   "outputs": [],
   "source": [
    "def convert_time_to_date(utc_time):\n",
    "    ts = int(utc_time)\n",
    "\n",
    "    # if you encounter a \"year is out of range\" error the timestamp\n",
    "    # may be in milliseconds, try `ts /= 1000` in that case\n",
    "    return datetime.utcfromtimestamp(ts).strftime('%Y-%m-%d')"
   ]
  },
  {
   "cell_type": "code",
   "execution_count": null,
   "metadata": {},
   "outputs": [],
   "source": []
  }
 ],
 "metadata": {
  "kernelspec": {
   "display_name": "Python 3",
   "language": "python",
   "name": "python3"
  },
  "language_info": {
   "codemirror_mode": {
    "name": "ipython",
    "version": 3
   },
   "file_extension": ".py",
   "mimetype": "text/x-python",
   "name": "python",
   "nbconvert_exporter": "python",
   "pygments_lexer": "ipython3",
   "version": "3.7.6"
  }
 },
 "nbformat": 4,
 "nbformat_minor": 4
}
